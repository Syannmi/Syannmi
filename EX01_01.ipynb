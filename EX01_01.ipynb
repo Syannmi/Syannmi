{
  "nbformat": 4,
  "nbformat_minor": 0,
  "metadata": {
    "colab": {
      "provenance": [],
      "authorship_tag": "ABX9TyNiUqZhiUsz3tP5wCjfCK8V",
      "include_colab_link": true
    },
    "kernelspec": {
      "name": "python3",
      "display_name": "Python 3"
    },
    "language_info": {
      "name": "python"
    }
  },
  "cells": [
    {
      "cell_type": "markdown",
      "metadata": {
        "id": "view-in-github",
        "colab_type": "text"
      },
      "source": [
        "<a href=\"https://colab.research.google.com/github/Syannmi/Syannmi/blob/main/EX01_01.ipynb\" target=\"_parent\"><img src=\"https://colab.research.google.com/assets/colab-badge.svg\" alt=\"Open In Colab\"/></a>"
      ]
    },
    {
      "cell_type": "code",
      "execution_count": 5,
      "metadata": {
        "colab": {
          "base_uri": "https://localhost:8080/"
        },
        "id": "82X9X9xUB6l-",
        "outputId": "228b01a3-2b33-442e-dcdc-61b46aeb238b"
      },
      "outputs": [
        {
          "output_type": "stream",
          "name": "stdout",
          "text": [
            "2\n",
            "3\n",
            "5\n"
          ]
        }
      ],
      "source": [
        "#取得整數一\n",
        "n1 = int(input())\n",
        "\n",
        "#取得整數二\n",
        "n2 = int(input())\n",
        "\n",
        "#把整數一和整數二相加\n",
        "tt = n1+n2\n",
        "#輸出結果\n",
        "print(tt)"
      ]
    }
  ]
}