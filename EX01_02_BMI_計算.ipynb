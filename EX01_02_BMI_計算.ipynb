{
  "nbformat": 4,
  "nbformat_minor": 0,
  "metadata": {
    "colab": {
      "provenance": [],
      "authorship_tag": "ABX9TyOsOoeYZ8rEfhkeKoVCB4lE",
      "include_colab_link": true
    },
    "kernelspec": {
      "name": "python3",
      "display_name": "Python 3"
    },
    "language_info": {
      "name": "python"
    }
  },
  "cells": [
    {
      "cell_type": "markdown",
      "metadata": {
        "id": "view-in-github",
        "colab_type": "text"
      },
      "source": [
        "<a href=\"https://colab.research.google.com/github/Syannmi/Syannmi/blob/main/EX01_02_BMI_%E8%A8%88%E7%AE%97.ipynb\" target=\"_parent\"><img src=\"https://colab.research.google.com/assets/colab-badge.svg\" alt=\"Open In Colab\"/></a>"
      ]
    },
    {
      "cell_type": "code",
      "execution_count": 4,
      "metadata": {
        "colab": {
          "base_uri": "https://localhost:8080/"
        },
        "id": "JuyBg0caJE9o",
        "outputId": "5d426b70-3910-4929-be0f-cc3817cba4df"
      },
      "outputs": [
        {
          "output_type": "stream",
          "name": "stdout",
          "text": [
            "height(cm):180\n",
            "weight(kg):65\n",
            "BMI: 20.1\n"
          ]
        }
      ],
      "source": [
        "height = float(input('height(cm):'))\n",
        "weight = float(input('weight(kg):'))\n",
        "bmi = weight / (height/100)**2\n",
        "print('BMI:', round(bmi,1))"
      ]
    }
  ]
}