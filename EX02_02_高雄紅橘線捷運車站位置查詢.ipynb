{
  "nbformat": 4,
  "nbformat_minor": 0,
  "metadata": {
    "colab": {
      "provenance": [],
      "authorship_tag": "ABX9TyN0ICjBRzgRN/Y3rgD+ea76",
      "include_colab_link": true
    },
    "kernelspec": {
      "name": "python3",
      "display_name": "Python 3"
    },
    "language_info": {
      "name": "python"
    }
  },
  "cells": [
    {
      "cell_type": "markdown",
      "metadata": {
        "id": "view-in-github",
        "colab_type": "text"
      },
      "source": [
        "<a href=\"https://colab.research.google.com/github/Syannmi/Syannmi/blob/main/EX02_02_%E9%AB%98%E9%9B%84%E7%B4%85%E6%A9%98%E7%B7%9A%E6%8D%B7%E9%81%8B%E8%BB%8A%E7%AB%99%E4%BD%8D%E7%BD%AE%E6%9F%A5%E8%A9%A2.ipynb\" target=\"_parent\"><img src=\"https://colab.research.google.com/assets/colab-badge.svg\" alt=\"Open In Colab\"/></a>"
      ]
    },
    {
      "cell_type": "code",
      "execution_count": null,
      "metadata": {
        "colab": {
          "base_uri": "https://localhost:8080/"
        },
        "id": "9qDrLBd46wT4",
        "outputId": "8801a4c9-2fdc-499a-b7b7-40f5a8451a32"
      },
      "outputs": [
        {
          "output_type": "execute_result",
          "data": {
            "text/plain": [
              "200"
            ]
          },
          "metadata": {},
          "execution_count": 2
        }
      ],
      "source": [
        "import requests #掛載requests\n",
        "url = 'https://data.kcg.gov.tw/dataset/2629db6d-98ec-4b24-8ab1-5dc34d998460/resource/662f822c-632b-4cb3-80f6-b5ac053d210b/download/11311.json' #高雄捷運json檔案\n",
        "response = requests.get(url)\n",
        "response.status_code #200成功"
      ]
    },
    {
      "cell_type": "code",
      "source": [
        "stats = response.json()\n",
        "stats[0] #檢視第一筆資料"
      ],
      "metadata": {
        "colab": {
          "base_uri": "https://localhost:8080/"
        },
        "id": "GmkQouMvKdxr",
        "outputId": "eee54a29-17df-4e66-b3e6-6724f5550569"
      },
      "execution_count": 26,
      "outputs": [
        {
          "output_type": "execute_result",
          "data": {
            "text/plain": [
              "{'seq': 1,\n",
              " '車站編號': 'R3',\n",
              " '車站中文名稱': '小港',\n",
              " '車站英文名稱': 'Siaogang',\n",
              " 'Latitude': 22.56481191,\n",
              " 'Longitude': 120.3538521}"
            ]
          },
          "metadata": {},
          "execution_count": 26
        }
      ]
    },
    {
      "cell_type": "code",
      "source": [
        "import csv #導入 csv 模組\n",
        "\n",
        "wtr = [] #建立一個空的列表 wtr\n",
        "wtr.append(list(stats[0].keys())) #將 stats 的第一個元素（stats[0]）的鍵（keys）轉成列表，並加入 wtr。\n",
        "\n",
        "for it in stats: #迴圈\n",
        "  wtr.append(list(it.values())) #將每個字典的值（values）轉成列表，並加入 wtr。\n",
        "with open('stats.csv', 'w', newline='')as f: # 開啟（或新建）名為 stats.csv 的檔案，並準備寫入。\n",
        "  writer = csv.writer(f) # 建立 csv.writer 物件\n",
        "  writer.writerows(wtr) #一次性寫入 wtr 的所有資料到 stats.csv。"
      ],
      "metadata": {
        "id": "ELBgm1DoLEKW"
      },
      "execution_count": 27,
      "outputs": []
    },
    {
      "cell_type": "code",
      "source": [
        "import csv  # 匯入 csv 模組\n",
        "\n",
        "# 以讀取模式 (\"r\") 打開 stats.csv 檔案\n",
        "with open(\"stats.csv\", \"r\") as file:\n",
        "  reader = csv.reader(file)  # 使用 csv.reader 讀取檔案內容\n",
        "  stats = list(reader)  # 將讀取的內容轉換為列表（list），並存入 stats 變數\n",
        "\n",
        "# 列印 stats 變數的內容\n",
        "print(stats)"
      ],
      "metadata": {
        "id": "-cnr2GK1L0VB"
      },
      "execution_count": null,
      "outputs": []
    },
    {
      "cell_type": "code",
      "source": [
        "!pip install gradio -q #安裝gradio"
      ],
      "metadata": {
        "id": "f9zlhX1EOjPd"
      },
      "execution_count": 29,
      "outputs": []
    },
    {
      "cell_type": "code",
      "source": [
        "import gradio as gr\n",
        "\n",
        "def stat_info(id):\n",
        "  info = ''\n",
        "  for it in stats[1:]: #跳過表頭\n",
        "    if it[1] == id:\n",
        "      info = f'車站編號:{it[1]}\\n中文名稱:{it[2]}\\n英文名稱:{it[3]}'\n",
        "      html = get_html(it[4], it[5]) #緯度與經度丟到html\n",
        "  return info, html\n",
        "\n",
        "def get_html(lat, lon): #獲得html，經度、緯度\n",
        "  lat = float(lat) #轉換成浮底涮\n",
        "  lon = float(lon)\n",
        "  html = f'''\n",
        "  <div style=\"width: 100%; height: 400px;\">\n",
        "    <iframe\n",
        "        width=\"100%\"\n",
        "        height=\"100%\"\n",
        "        frameborder=\"0\"\n",
        "        scrolling=\"no\"\n",
        "        marginheight=\"0\"\n",
        "        marginwidth=\"0\"\n",
        "        src=\"https://www.openstreetmap.org/export/embed.html?bbox={lon-0.01}%2C{lat-0.01}%2C{lon+0.01}%2C{lat+0.01}&layer=mapnik&marker={lat}%2C{lon}\">\n",
        "    </iframe>\n",
        "    </div>\n",
        "  '''#f表示計算\n",
        "\n",
        "  return html\n",
        "\n",
        "\n",
        "menu = [] # 建立一個空列表來存放車站編號\n",
        "for it in stats[1:]: # 遍歷 stats[1:]，略過第一行（標題）\n",
        "  menu.append(it[1]) # 將每一行的第二個元素（車站編號）加入 menu\n",
        "\n",
        "gr.Interface( # 建立 Gradio 介面\n",
        "    fn = stat_info, #根據選擇的車站編號回傳資訊\n",
        "    inputs = gr.Dropdown(choices = menu, label=\"車站編號:\"), # 建立下拉選單\n",
        "    outputs = [gr.Textbox(label=\"車站資訊:\"), gr.HTML(label='車站地圖')] # 兩個輸出框\n",
        ").launch() #啟動"
      ],
      "metadata": {
        "colab": {
          "base_uri": "https://localhost:8080/",
          "height": 645
        },
        "id": "u_SLvfrSMyT0",
        "outputId": "5c20e912-c1fb-4017-a34b-43d7489f9d00"
      },
      "execution_count": 42,
      "outputs": [
        {
          "output_type": "stream",
          "name": "stdout",
          "text": [
            "Running Gradio in a Colab notebook requires sharing enabled. Automatically setting `share=True` (you can turn this off by setting `share=False` in `launch()` explicitly).\n",
            "\n",
            "Colab notebook detected. To show errors in colab notebook, set debug=True in launch()\n",
            "* Running on public URL: https://c6757e6cc9040b8f8a.gradio.live\n",
            "\n",
            "This share link expires in 72 hours. For free permanent hosting and GPU upgrades, run `gradio deploy` from the terminal in the working directory to deploy to Hugging Face Spaces (https://huggingface.co/spaces)\n"
          ]
        },
        {
          "output_type": "display_data",
          "data": {
            "text/plain": [
              "<IPython.core.display.HTML object>"
            ],
            "text/html": [
              "<div><iframe src=\"https://c6757e6cc9040b8f8a.gradio.live\" width=\"100%\" height=\"500\" allow=\"autoplay; camera; microphone; clipboard-read; clipboard-write;\" frameborder=\"0\" allowfullscreen></iframe></div>"
            ]
          },
          "metadata": {}
        },
        {
          "output_type": "execute_result",
          "data": {
            "text/plain": []
          },
          "metadata": {},
          "execution_count": 42
        }
      ]
    }
  ]
}