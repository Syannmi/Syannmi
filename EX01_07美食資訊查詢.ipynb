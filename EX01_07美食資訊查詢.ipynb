{
  "cells": [
    {
      "cell_type": "markdown",
      "metadata": {
        "id": "view-in-github",
        "colab_type": "text"
      },
      "source": [
        "<a href=\"https://colab.research.google.com/github/Syannmi/Syannmi/blob/main/EX01_07%E7%BE%8E%E9%A3%9F%E8%B3%87%E8%A8%8A%E6%9F%A5%E8%A9%A2.ipynb\" target=\"_parent\"><img src=\"https://colab.research.google.com/assets/colab-badge.svg\" alt=\"Open In Colab\"/></a>"
      ]
    },
    {
      "cell_type": "code",
      "execution_count": null,
      "metadata": {
        "colab": {
          "background_save": true,
          "base_uri": "https://localhost:8080/",
          "height": 626
        },
        "id": "010hQmG_297i",
        "outputId": "3b9260e7-7c42-4e00-e31b-c7c01569e165"
      },
      "outputs": [
        {
          "name": "stdout",
          "output_type": "stream",
          "text": [
            "Running Gradio in a Colab notebook requires sharing enabled. Automatically setting `share=True` (you can turn this off by setting `share=False` in `launch()` explicitly).\n",
            "\n",
            "Colab notebook detected. This cell will run indefinitely so that you can see errors and logs. To turn off, set debug=False in launch().\n",
            "* Running on public URL: https://e0ec6a88dd387dbe1d.gradio.live\n",
            "\n",
            "This share link expires in 72 hours. For free permanent hosting and GPU upgrades, run `gradio deploy` from the terminal in the working directory to deploy to Hugging Face Spaces (https://huggingface.co/spaces)\n"
          ]
        },
        {
          "data": {
            "text/html": [
              "<div><iframe src=\"https://e0ec6a88dd387dbe1d.gradio.live\" width=\"100%\" height=\"500\" allow=\"autoplay; camera; microphone; clipboard-read; clipboard-write;\" frameborder=\"0\" allowfullscreen></iframe></div>"
            ],
            "text/plain": [
              "<IPython.core.display.HTML object>"
            ]
          },
          "metadata": {},
          "output_type": "display_data"
        },
        {
          "name": "stdout",
          "output_type": "stream",
          "text": [
            "Created dataset file at: .gradio/flagged/dataset1.csv\n"
          ]
        }
      ],
      "source": [
        "import gradio as gr\n",
        "food_database = [\n",
        "    {\"name\": \"早安美芝城鼓山西子灣概念店\", \"address\": \"804高雄市鼓山區臨海二路34號\", \"phone\": \"07 531 3513\"},\n",
        "    {\"name\": \"弘爺漢堡（渡船頭店）\", \"address\": \"804高雄市鼓山區濱海一路53號\", \"phone\": \"07 531 0887\"},\n",
        "    {\"name\": \"里歐歐式早餐 新興店\", \"address\": \"803高雄市鹽埕區五福四路268號\", \"phone\": \"07 551 2988\"},\n",
        "    {\"name\": \"拉亞漢堡 高雄文武\", \"address\": \"801高雄市前金區文武一街72號\", \"phone\": \"07 261 1226\"},\n",
        "    {\"name\": \"麥味登 高雄西子灣店\", \"address\": \"804高雄市鼓山區臨海二路56號\", \"phone\": \"07 531 3906\"}\n",
        "]\n",
        "\n",
        "\n",
        "#遍歷 food_database：對每個餐廳的字典 im 進行處理。\n",
        "#提取 \"name\" 欄位：取出 \"name\" 對應的值（餐廳名稱）。\n",
        "#存入 menu 清單：生成只包含餐廳名稱的列表，方便後續使用。\n",
        "menu = [ im[\"name\"] for im in food_database]\n",
        "\n",
        "def food_info(store_name):\n",
        "    for im in food_database: #遍歷 food_database，查看每家餐廳的字典 im。\n",
        "        if im[\"name\"] == store_name: #如果 im[\"name\"] 等於 使用者輸入的 store_name，就組合餐廳名稱、地址和電話，並回傳資訊。\n",
        "            info = im[\"name\"] + '\\n' + im[\"address\"] + '\\n' + im[\"phone\"]\n",
        "            return info\n",
        "    return 'Not Found!' #如果遍歷完都沒找到匹配的名稱，就返回 'Not Found!'。\n",
        "\n",
        "#建立介面\n",
        "interface = gr.Interface(\n",
        "    fn=food_info, #建立介面的函數\n",
        "    inputs=gr.Dropdown(choices=menu, label='請選擇一間餐廳: '), #下拉式選單\n",
        "    outputs=gr.Textbox(label='餐廳資訊: ') #輸出類型\n",
        ")\n",
        "#啟動介面\n",
        "interface.launch(debug=True)"
      ]
    },
    {
      "cell_type": "code",
      "execution_count": null,
      "metadata": {
        "colab": {
          "base_uri": "https://localhost:8080/"
        },
        "id": "XYNELuv07svv",
        "outputId": "eee8e9ef-16d3-478f-de80-ef39d81a63be"
      },
      "outputs": [
        {
          "name": "stdout",
          "output_type": "stream",
          "text": [
            "\u001b[2K   \u001b[90m━━━━━━━━━━━━━━━━━━━━━━━━━━━━━━━━━━━━━━━━\u001b[0m \u001b[32m51.3/51.3 MB\u001b[0m \u001b[31m12.1 MB/s\u001b[0m eta \u001b[36m0:00:00\u001b[0m\n",
            "\u001b[2K   \u001b[90m━━━━━━━━━━━━━━━━━━━━━━━━━━━━━━━━━━━━━━━━\u001b[0m \u001b[32m322.2/322.2 kB\u001b[0m \u001b[31m11.8 MB/s\u001b[0m eta \u001b[36m0:00:00\u001b[0m\n",
            "\u001b[2K   \u001b[90m━━━━━━━━━━━━━━━━━━━━━━━━━━━━━━━━━━━━━━━━\u001b[0m \u001b[32m95.2/95.2 kB\u001b[0m \u001b[31m6.7 MB/s\u001b[0m eta \u001b[36m0:00:00\u001b[0m\n",
            "\u001b[2K   \u001b[90m━━━━━━━━━━━━━━━━━━━━━━━━━━━━━━━━━━━━━━━━\u001b[0m \u001b[32m11.3/11.3 MB\u001b[0m \u001b[31m64.5 MB/s\u001b[0m eta \u001b[36m0:00:00\u001b[0m\n",
            "\u001b[2K   \u001b[90m━━━━━━━━━━━━━━━━━━━━━━━━━━━━━━━━━━━━━━━━\u001b[0m \u001b[32m72.0/72.0 kB\u001b[0m \u001b[31m5.1 MB/s\u001b[0m eta \u001b[36m0:00:00\u001b[0m\n",
            "\u001b[2K   \u001b[90m━━━━━━━━━━━━━━━━━━━━━━━━━━━━━━━━━━━━━━━━\u001b[0m \u001b[32m62.3/62.3 kB\u001b[0m \u001b[31m4.3 MB/s\u001b[0m eta \u001b[36m0:00:00\u001b[0m\n",
            "\u001b[?25hRequirement already satisfied: requests in /usr/local/lib/python3.11/dist-packages (2.32.3)\n",
            "Requirement already satisfied: charset-normalizer<4,>=2 in /usr/local/lib/python3.11/dist-packages (from requests) (3.4.1)\n",
            "Requirement already satisfied: idna<4,>=2.5 in /usr/local/lib/python3.11/dist-packages (from requests) (3.10)\n",
            "Requirement already satisfied: urllib3<3,>=1.21.1 in /usr/local/lib/python3.11/dist-packages (from requests) (2.3.0)\n",
            "Requirement already satisfied: certifi>=2017.4.17 in /usr/local/lib/python3.11/dist-packages (from requests) (2025.1.31)\n",
            "Requirement already satisfied: numpy in /usr/local/lib/python3.11/dist-packages (2.0.2)\n"
          ]
        }
      ],
      "source": [
        "!pip install -q gradio\n",
        "!pip install requests\n",
        "!pip install numpy\n",
        "#!pip install opencv-pytho # Colab 預設已安裝，本地端可依需要開啟安裝\n",
        "\n",
        "import gradio as gr # 導入 gradio 函式庫並令別名為 gr\n",
        "import numpy as np  # 導入 numpy 函式庫並令別名為 np\n",
        "#import cv2 # 導入 opencv 函式庫"
      ]
    },
    {
      "cell_type": "code",
      "execution_count": null,
      "metadata": {
        "colab": {
          "base_uri": "https://localhost:8080/",
          "height": 626
        },
        "id": "oj2lD8NDBNM5",
        "outputId": "b2528d12-308a-4032-8c4d-be5485f76fa2"
      },
      "outputs": [
        {
          "name": "stdout",
          "output_type": "stream",
          "text": [
            "Running Gradio in a Colab notebook requires sharing enabled. Automatically setting `share=True` (you can turn this off by setting `share=False` in `launch()` explicitly).\n",
            "\n",
            "Colab notebook detected. To show errors in colab notebook, set debug=True in launch()\n",
            "* Running on public URL: https://b875b6359bd264bd67.gradio.live\n",
            "\n",
            "This share link expires in 72 hours. For free permanent hosting and GPU upgrades, run `gradio deploy` from the terminal in the working directory to deploy to Hugging Face Spaces (https://huggingface.co/spaces)\n"
          ]
        },
        {
          "data": {
            "text/html": [
              "<div><iframe src=\"https://b875b6359bd264bd67.gradio.live\" width=\"100%\" height=\"500\" allow=\"autoplay; camera; microphone; clipboard-read; clipboard-write;\" frameborder=\"0\" allowfullscreen></iframe></div>"
            ],
            "text/plain": [
              "<IPython.core.display.HTML object>"
            ]
          },
          "metadata": {},
          "output_type": "display_data"
        },
        {
          "data": {
            "text/plain": []
          },
          "execution_count": 5,
          "metadata": {},
          "output_type": "execute_result"
        }
      ],
      "source": [
        "import gradio as gr\n",
        "\n",
        "def greet(name):\n",
        "    return f\"Hello, {name}!\"\n",
        "\n",
        "# 建立介面\n",
        "interface = gr.Interface(\n",
        "    fn=greet,  # 建立介面的函數\n",
        "    inputs=gr.Textbox(),  # 輸入類型\n",
        "    outputs=gr.Textbox()  # 輸出類型\n",
        ")\n",
        "\n",
        "# 啟動介面\n",
        "interface.launch()"
      ]
    }
  ],
  "metadata": {
    "colab": {
      "provenance": [],
      "authorship_tag": "ABX9TyMXMrSJCY9IWPFPkaWg8bIt",
      "include_colab_link": true
    },
    "kernelspec": {
      "display_name": "Python 3",
      "name": "python3"
    },
    "language_info": {
      "name": "python"
    }
  },
  "nbformat": 4,
  "nbformat_minor": 0
}