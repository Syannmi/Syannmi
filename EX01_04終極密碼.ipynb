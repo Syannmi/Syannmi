{
  "nbformat": 4,
  "nbformat_minor": 0,
  "metadata": {
    "colab": {
      "provenance": [],
      "authorship_tag": "ABX9TyOQ5LOX6C/wP1grXWzH6A6T",
      "include_colab_link": true
    },
    "kernelspec": {
      "name": "python3",
      "display_name": "Python 3"
    },
    "language_info": {
      "name": "python"
    }
  },
  "cells": [
    {
      "cell_type": "markdown",
      "metadata": {
        "id": "view-in-github",
        "colab_type": "text"
      },
      "source": [
        "<a href=\"https://colab.research.google.com/github/Syannmi/Syannmi/blob/main/EX01_04%E7%B5%82%E6%A5%B5%E5%AF%86%E7%A2%BC.ipynb\" target=\"_parent\"><img src=\"https://colab.research.google.com/assets/colab-badge.svg\" alt=\"Open In Colab\"/></a>"
      ]
    },
    {
      "cell_type": "code",
      "execution_count": 4,
      "metadata": {
        "colab": {
          "base_uri": "https://localhost:8080/"
        },
        "id": "2FsXBYl63JJP",
        "outputId": "b0faae31-0836-4a20-8af9-8d7d2c96d70f"
      },
      "outputs": [
        {
          "output_type": "stream",
          "name": "stdout",
          "text": [
            "0 - 100\n",
            "guess33\n",
            "33 - 100\n",
            "guess34\n",
            "34 - 100\n",
            "guess56\n",
            "56 - 100\n",
            "guess90\n",
            "90 - 100\n",
            "guess93\n",
            "93 - 100\n",
            "guess95\n",
            "95 - 100\n",
            "guess96\n",
            "Boom!\n"
          ]
        }
      ],
      "source": [
        "import random #匯入亂數\n",
        "bomb = random.randint(1,99) #亂數0:100中隨便選一個整數，命名為炸彈\n",
        "\n",
        "lf = 0 #左邊界0\n",
        "rt = 100 #右邊界100\n",
        "\n",
        "while True:\n",
        "  print(lf, '-', rt) #猜左邊界和右邊界的數字\n",
        "  gu = int(input('guess')) #猜數字，定義為gu\n",
        "\n",
        "  #超過範圍\n",
        "  if gu <= lf or gu >= rt: #小於等於左邊界，或大於等於右邊界\n",
        "    print('超過範圍')\n",
        "\n",
        "  #比炸彈小\n",
        "  elif gu < bomb: #猜的數字比炸彈小\n",
        "    lf = gu #猜的數字變成左邊界\n",
        "  elif gu > bomb: #猜的數字比炸彈大\n",
        "    rt = gu #猜的數字變成右邊界\n",
        "  else:\n",
        "    print ('Boom!') #猜中就爆炸\n",
        "    break #終止條件，如果沒猜中，迴圈就繼續進行"
      ]
    }
  ]
}