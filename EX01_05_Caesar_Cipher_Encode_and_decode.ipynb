{
  "nbformat": 4,
  "nbformat_minor": 0,
  "metadata": {
    "colab": {
      "provenance": [],
      "authorship_tag": "ABX9TyPXEt8c5j4owp9C5KXTmObv",
      "include_colab_link": true
    },
    "kernelspec": {
      "name": "python3",
      "display_name": "Python 3"
    },
    "language_info": {
      "name": "python"
    }
  },
  "cells": [
    {
      "cell_type": "markdown",
      "metadata": {
        "id": "view-in-github",
        "colab_type": "text"
      },
      "source": [
        "<a href=\"https://colab.research.google.com/github/Syannmi/Syannmi/blob/main/EX01_05_Caesar_Cipher_Encode_and_decode.ipynb\" target=\"_parent\"><img src=\"https://colab.research.google.com/assets/colab-badge.svg\" alt=\"Open In Colab\"/></a>"
      ]
    },
    {
      "cell_type": "code",
      "execution_count": 4,
      "metadata": {
        "id": "A7KMMTtzEA8o",
        "colab": {
          "base_uri": "https://localhost:8080/"
        },
        "outputId": "5286860f-8399-4152-a644-2628d50bc406"
      },
      "outputs": [
        {
          "output_type": "stream",
          "name": "stdout",
          "text": [
            "d8\n",
            "pmttw(wztl\n",
            "hello world\n"
          ]
        }
      ],
      "source": [
        "act = input() #輸入，並定義為act\n",
        "txt = input() #輸入，並定義為txt\n",
        "\n",
        "act_type = act [0] #輸入的第一個字，判斷加密還是解密\n",
        "key = int(act[1:]) #金鑰多少。切片，第一個數字到最後都要\n",
        "ntxt = '' #一開始的字串是空的\n",
        "\n",
        "if act_type == 'd': #d解密，e加密\n",
        "   for c in txt:\n",
        "    nc = ord(c) - key\n",
        "    ntxt = ntxt + chr (nc)\n",
        "\n",
        "else:\n",
        "  for c in txt:\n",
        "    nc = ord(c) + key #新的加密後的編號\n",
        "    ntxt = ntxt + chr (nc) #字串+還原原本加密的文字\n",
        "\n",
        "print(ntxt)"
      ]
    }
  ]
}