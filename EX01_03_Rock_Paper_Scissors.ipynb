{
  "nbformat": 4,
  "nbformat_minor": 0,
  "metadata": {
    "colab": {
      "provenance": [],
      "authorship_tag": "ABX9TyMQit3VRNPonmalDZD1KHzT",
      "include_colab_link": true
    },
    "kernelspec": {
      "name": "python3",
      "display_name": "Python 3"
    },
    "language_info": {
      "name": "python"
    }
  },
  "cells": [
    {
      "cell_type": "markdown",
      "metadata": {
        "id": "view-in-github",
        "colab_type": "text"
      },
      "source": [
        "<a href=\"https://colab.research.google.com/github/Syannmi/Syannmi/blob/main/EX01_03_Rock_Paper_Scissors.ipynb\" target=\"_parent\"><img src=\"https://colab.research.google.com/assets/colab-badge.svg\" alt=\"Open In Colab\"/></a>"
      ]
    },
    {
      "cell_type": "code",
      "execution_count": 7,
      "metadata": {
        "colab": {
          "base_uri": "https://localhost:8080/"
        },
        "id": "n1mxGc-VOTeW",
        "outputId": "0b4bc3e9-f4b2-4eb6-9688-6d01fc55746b"
      },
      "outputs": [
        {
          "output_type": "stream",
          "name": "stdout",
          "text": [
            "5\n",
            "computer: 0\n",
            "you wins\n"
          ]
        }
      ],
      "source": [
        "import random\n",
        "player = int(input())\n",
        "computer = random.choice([0,2,5])\n",
        "print('computer:', computer)\n",
        "if player==computer:\n",
        "  print('draw')\n",
        "elif (player==0 and computer==2) or (player == 2 and computer == 5) or (player == 5 and computer ==0):\n",
        "  print('you wins')\n",
        "else:\n",
        "  print('you lose')\n"
      ]
    }
  ]
}